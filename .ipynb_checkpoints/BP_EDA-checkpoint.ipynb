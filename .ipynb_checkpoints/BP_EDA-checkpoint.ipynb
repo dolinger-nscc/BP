{
 "cells": [
  {
   "cell_type": "code",
   "execution_count": null,
   "id": "e9560369",
   "metadata": {},
   "outputs": [],
   "source": [
    "import numpy as np\n",
    "import pandas as pd\n",
    "import matplotlib.pyplot as plt\n",
    "import plotly.graph_objects as go\n",
    "import plotly.express as px\n",
    "import seaborn as sns\n",
    "import datetime\n",
    "\n",
    "pd.set_option('display.max_columns', None)"
   ]
  },
  {
   "cell_type": "code",
   "execution_count": null,
   "id": "8177e900",
   "metadata": {},
   "outputs": [],
   "source": [
    "bp_data = pd.read_csv('./BP_Log.csv')\n",
    "bp_data.tail()"
   ]
  },
  {
   "cell_type": "code",
   "execution_count": null,
   "id": "f80b235d",
   "metadata": {},
   "outputs": [],
   "source": [
    "df = bp_data.copy()\n",
    "df = df[~df['BP1'].isna()]\n",
    "\n",
    "df['sys1'] = pd.DataFrame(df['BP1'].str.split('/').to_list(), columns = ['sys', 'delme'])['sys'].astype('float64')\n",
    "df['sys2'] = pd.DataFrame(df['BP2'].str.split('/').to_list(), columns = ['sys', 'delme'])['sys'].astype('float64')\n",
    "df['sys3'] = pd.DataFrame(df['BP3'].str.split('/').to_list(), columns = ['sys', 'delme'])['sys'].astype('float64')\n",
    "df['mn_sys'] = (df['sys1'] + df['sys2'] + df['sys3']) / 3\n",
    "\n",
    "dia1tmp = pd.DataFrame(df['BP1'].str.split('/').to_list(), columns = ['sys', 'delme'])['delme'].str.split('-').to_list()\n",
    "df['di1'] = pd.DataFrame(dia1tmp)[0].astype('float64')\n",
    "dia2tmp = pd.DataFrame(df['BP2'].str.split('/').to_list(), columns = ['sys', 'delme'])['delme'].str.split('-').to_list()\n",
    "df['di2'] = pd.DataFrame(dia2tmp)[0].astype('float64')\n",
    "dia3tmp = pd.DataFrame(df['BP3'].str.split('/').to_list(), columns = ['sys', 'delme'])['delme'].str.split('-').to_list()\n",
    "df['di3'] = pd.DataFrame(dia3tmp)[0].astype('float64')\n",
    "\n",
    "df['mn_di'] = (df['di1'] + df['di2'] + df['di3']) / 3\n",
    "\n",
    "df"
   ]
  },
  {
   "cell_type": "code",
   "execution_count": null,
   "id": "b15010e5",
   "metadata": {},
   "outputs": [],
   "source": [
    "df.info()"
   ]
  },
  {
   "cell_type": "code",
   "execution_count": null,
   "id": "209708d9",
   "metadata": {},
   "outputs": [],
   "source": [
    "s1 = df[['Date', 'DoW', 'sys1']]; s2 = df[['Date', 'DoW', 'sys2']]; s3 = df[['Date', 'DoW', 'sys3']]\n",
    "d1 = df[['Date', 'DoW', 'di1']]; d2 = df[['Date', 'DoW', 'di2']]; d3 = df[['Date', 'DoW', 'di3']]\n",
    "\n",
    "df_sys = pd.concat([s1,s2,s3], axis=0)\n",
    "df_dia = pd.concat([d1,d2,d3], axis=0)\n",
    "\n",
    "df_sys['sys'] = df_sys['sys1'].fillna(df_sys['sys2']).fillna(df_sys['sys3'])\n",
    "df_dia['dia'] = df_dia['di1'].fillna(df_dia['di2']).fillna(df_dia['di3'])\n",
    "\n",
    "df_daily = df_sys[['Date', 'DoW', 'sys']].copy()\n",
    "df_daily['dia'] = df_dia['dia']\n",
    "df_daily.reset_index(inplace=True)\n",
    "\n",
    "df_daily"
   ]
  },
  {
   "cell_type": "code",
   "execution_count": null,
   "id": "1737bdcc",
   "metadata": {},
   "outputs": [],
   "source": [
    "plt.figure(figsize=(10,5))\n",
    "    \n",
    "sns.histplot(data=df_daily['sys'], binwidth=1, legend=False)\n",
    "sns.histplot(data=df_daily['dia'], binwidth=1, legend=False)\n",
    "# plt.xticks(range(int(min(df_daily['dia']-10)), 171, 10))\n",
    "plt.xticks(range(70,180,10))\n",
    "plt.show()"
   ]
  },
  {
   "cell_type": "code",
   "execution_count": null,
   "id": "e7c7d4fa",
   "metadata": {},
   "outputs": [],
   "source": [
    "fig, axs = plt.subplots(2, 1, figsize=(10, 6))\n",
    "\n",
    "# top fig\n",
    "sns.histplot(data=df_daily['sys'], binwidth=1, legend=False, ax=axs[0], kde=True)\n",
    "axs[0].set_title(f'Systolic - {df_daily.shape[0]} Tests')\n",
    "axs[0].set_xlabel('')\n",
    "axs[0].set_ylabel('')\n",
    "\n",
    "# 2nd fig\n",
    "sns.histplot(data=df_daily['dia'], binwidth=1, legend=False, ax=axs[1], kde=True)\n",
    "axs[1].set_title('Diastolic')\n",
    "axs[1].set_xlabel('')\n",
    "axs[1].set_ylabel('')\n",
    "\n",
    "plt.tight_layout()\n",
    "plt.show()"
   ]
  },
  {
   "cell_type": "code",
   "execution_count": null,
   "id": "d9e20478-430f-4e1c-afef-29d5c10150ad",
   "metadata": {},
   "outputs": [],
   "source": [
    "df_daily.shape[0]"
   ]
  },
  {
   "cell_type": "code",
   "execution_count": null,
   "id": "36c0ae87",
   "metadata": {},
   "outputs": [],
   "source": [
    "# Tukey EDA Test...\n",
    "df_daily[['sys', 'dia']].describe().T"
   ]
  },
  {
   "cell_type": "code",
   "execution_count": null,
   "id": "65e89f2c",
   "metadata": {},
   "outputs": [],
   "source": [
    "fig, ax = plt.subplots(figsize=(12, 3))\n",
    "sns.lineplot(data=df_daily[['sys', 'dia']], ax=ax)\n",
    "plt.show();"
   ]
  },
  {
   "cell_type": "code",
   "execution_count": null,
   "id": "bd637940",
   "metadata": {},
   "outputs": [],
   "source": [
    "fig, ax = plt.subplots(figsize=(12, 3))\n",
    "sns.regplot(x=df_daily.index, y = 'sys', ax=ax, data=df_daily, line_kws={'color':'black'})\n",
    "sns.regplot(x=df_daily.index, y = 'dia', ax=ax, data=df_daily, line_kws={'color':'black'})\n",
    "ax.set(xlabel='', ylabel='')\n",
    "plt.show(); \n",
    "\n",
    "\n",
    "# setting the dimensions of the plot\n",
    "#\n",
    " \n",
    "# drawing the plot\n",
    "#sns.barplot(x, y, ax=ax)"
   ]
  },
  {
   "cell_type": "code",
   "execution_count": null,
   "id": "1043f2d9",
   "metadata": {},
   "outputs": [],
   "source": [
    "sns.boxplot(data=df_daily[['sys', 'dia']]);"
   ]
  },
  {
   "cell_type": "code",
   "execution_count": null,
   "id": "0998a53f",
   "metadata": {},
   "outputs": [],
   "source": [
    "df_summary = df_daily.drop('index', axis = 1)\n",
    "df_summary = df_summary.groupby(['Date', 'DoW']).mean().round().astype(int).reset_index()\n",
    "df_summary"
   ]
  },
  {
   "cell_type": "code",
   "execution_count": null,
   "id": "97efbb33",
   "metadata": {},
   "outputs": [],
   "source": [
    "sns.lineplot(data=df_summary);"
   ]
  },
  {
   "cell_type": "code",
   "execution_count": null,
   "id": "a1840aa1",
   "metadata": {},
   "outputs": [],
   "source": [
    "rolling = df_summary[['Date', 'sys', 'dia']].set_index('Date').rolling(window=5).mean().dropna()\n",
    "sns.lineplot(data=rolling);"
   ]
  },
  {
   "cell_type": "raw",
   "id": "2d01e36b",
   "metadata": {},
   "source": [
    "lst_date = pd.to_datetime(bp_series['Date'].max())\n",
    "thirty_days_ago = lst_date - pd.to_timedelta(30, unit='d')\n",
    "\n",
    "thirty_day = bp_series[pd.to_datetime(\n",
    "    bp_series['Date']) > (pd.to_datetime(thirty_days_ago))]\n",
    "thirty_med_sys = thirty_day['Systolic'].median()\n",
    "thirty_med_di = thirty_day['Diastolic'].median()\n",
    "thirty_avg_sys = thirty_day['Systolic'].mean()\n",
    "thirty_avg_di = thirty_day['Diastolic'].mean()\n",
    "\n",
    "\n",
    "prior_thirty = lst_date - pd.to_timedelta(30, unit='d')\n",
    "prior_sixty = lst_date - pd.to_timedelta(60, unit='d')\n",
    "prior = bp_series[(pd.to_datetime(bp_series['Date']) > prior_sixty) & (\n",
    "    pd.to_datetime(bp_series['Date']) <= prior_thirty)]\n",
    "\n",
    "prior_med_sys = prior['Systolic'].median()\n",
    "prior_med_di = prior['Diastolic'].median()\n",
    "prior_avg_sys = prior['Systolic'].mean()\n",
    "prior_avg_di = prior['Diastolic'].mean()"
   ]
  },
  {
   "cell_type": "code",
   "execution_count": null,
   "id": "2d949969",
   "metadata": {},
   "outputs": [],
   "source": [
    "lst_date = pd.to_datetime(df_summary['Date'].max())\n",
    "thirty_days_ago = lst_date - pd.to_timedelta(30, unit='d')\n",
    "# lst_date, thirty_days_ago\n",
    "\n",
    "df_summary['Date'] = pd.to_datetime(df_summary['Date'])\n",
    "# df_summary.info()\n",
    "\n",
    "thirty_day_df = df_summary[df_summary['Date'] > thirty_days_ago]\n",
    "\n",
    "sixty_days_ago = lst_date - pd.to_timedelta(60, unit='d')\n",
    "# prior_thirty_days = \n",
    "#df_summary[(df_summary['Date'] > sixty_days_ago) & (df_summary['Date'] < thirty_days_ago)]\n",
    "df_summary[(df_summary['Date'] > sixty_days_ago) & (df_summary['Date'] <= thirty_days_ago)]\n"
   ]
  },
  {
   "cell_type": "code",
   "execution_count": null,
   "id": "0ff6b4dc",
   "metadata": {},
   "outputs": [],
   "source": [
    "df_summary.head(2)"
   ]
  },
  {
   "cell_type": "code",
   "execution_count": null,
   "id": "db80c4b4",
   "metadata": {},
   "outputs": [],
   "source": []
  },
  {
   "cell_type": "code",
   "execution_count": null,
   "id": "e26f3448",
   "metadata": {},
   "outputs": [],
   "source": []
  },
  {
   "cell_type": "code",
   "execution_count": null,
   "id": "e82d9a82",
   "metadata": {},
   "outputs": [],
   "source": []
  }
 ],
 "metadata": {
  "kernelspec": {
   "display_name": "Python 3 (ipykernel)",
   "language": "python",
   "name": "python3"
  },
  "language_info": {
   "codemirror_mode": {
    "name": "ipython",
    "version": 3
   },
   "file_extension": ".py",
   "mimetype": "text/x-python",
   "name": "python",
   "nbconvert_exporter": "python",
   "pygments_lexer": "ipython3",
   "version": "3.10.13"
  }
 },
 "nbformat": 4,
 "nbformat_minor": 5
}
