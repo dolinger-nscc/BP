{
 "cells": [
  {
   "cell_type": "code",
   "execution_count": 1,
   "id": "955a7fed-2ea9-4cd0-94b7-9af695a2111a",
   "metadata": {},
   "outputs": [],
   "source": [
    "import numpy as np\n",
    "import pandas as pd\n",
    "import matplotlib.pyplot as plt\n",
    "#import matplotlib.dates as mdates\n",
    "from matplotlib.dates import DateFormatter\n",
    "#import plotly.graph_objects as go\n",
    "import plotly.express as px\n",
    "import seaborn as sns\n",
    "#import datetime\n",
    "import streamlit as st\n",
    "from PIL import Image"
   ]
  },
  {
   "cell_type": "code",
   "execution_count": 2,
   "id": "a39e30c9-bc40-4e2e-9140-33291703ccc0",
   "metadata": {},
   "outputs": [],
   "source": [
    "# import BPs\n",
    "p_data = 'BP_Log.csv'\n",
    "p_img = 'BP_ranges.png'"
   ]
  },
  {
   "cell_type": "markdown",
   "id": "987f682f-8b87-4a11-a6e2-b6f6b20d1127",
   "metadata": {},
   "source": [
    "\n",
    "<img src='BP_ranges.png'>"
   ]
  },
  {
   "cell_type": "code",
   "execution_count": 3,
   "id": "6e1ba5ed-0b02-4c4c-9bdd-2ba69652bafe",
   "metadata": {},
   "outputs": [
    {
     "data": {
      "text/html": [
       "<div>\n",
       "<style scoped>\n",
       "    .dataframe tbody tr th:only-of-type {\n",
       "        vertical-align: middle;\n",
       "    }\n",
       "\n",
       "    .dataframe tbody tr th {\n",
       "        vertical-align: top;\n",
       "    }\n",
       "\n",
       "    .dataframe thead th {\n",
       "        text-align: right;\n",
       "    }\n",
       "</style>\n",
       "<table border=\"1\" class=\"dataframe\">\n",
       "  <thead>\n",
       "    <tr style=\"text-align: right;\">\n",
       "      <th></th>\n",
       "      <th>Date</th>\n",
       "      <th>DoW</th>\n",
       "      <th>BP1</th>\n",
       "      <th>BP2</th>\n",
       "      <th>BP3</th>\n",
       "    </tr>\n",
       "  </thead>\n",
       "  <tbody>\n",
       "    <tr>\n",
       "      <th>0</th>\n",
       "      <td>2023-04-08</td>\n",
       "      <td>Saturday</td>\n",
       "      <td>121/84 - 66</td>\n",
       "      <td>124/86 - 62</td>\n",
       "      <td>127/84 - 63</td>\n",
       "    </tr>\n",
       "    <tr>\n",
       "      <th>1</th>\n",
       "      <td>2023-04-09</td>\n",
       "      <td>Sunday</td>\n",
       "      <td>123/80 - 58</td>\n",
       "      <td>131/86 - 58</td>\n",
       "      <td>126/85 - 56</td>\n",
       "    </tr>\n",
       "    <tr>\n",
       "      <th>2</th>\n",
       "      <td>2023-04-10</td>\n",
       "      <td>Monday</td>\n",
       "      <td>133/85 - 59</td>\n",
       "      <td>127/85 - 59</td>\n",
       "      <td>130/88  - 59</td>\n",
       "    </tr>\n",
       "    <tr>\n",
       "      <th>3</th>\n",
       "      <td>2023-04-11</td>\n",
       "      <td>Tuesday</td>\n",
       "      <td>130/88 - 67</td>\n",
       "      <td>127/85 - 64</td>\n",
       "      <td>132/86  - 65</td>\n",
       "    </tr>\n",
       "    <tr>\n",
       "      <th>4</th>\n",
       "      <td>2023-04-12</td>\n",
       "      <td>Wednesday</td>\n",
       "      <td>122/81 - 69</td>\n",
       "      <td>122/82 - 68</td>\n",
       "      <td>127/86 - 64</td>\n",
       "    </tr>\n",
       "    <tr>\n",
       "      <th>...</th>\n",
       "      <td>...</td>\n",
       "      <td>...</td>\n",
       "      <td>...</td>\n",
       "      <td>...</td>\n",
       "      <td>...</td>\n",
       "    </tr>\n",
       "    <tr>\n",
       "      <th>178</th>\n",
       "      <td>2023-10-03</td>\n",
       "      <td>Tuesday</td>\n",
       "      <td>133/92 - 69</td>\n",
       "      <td>134/95 - 77</td>\n",
       "      <td>142/96 - 75</td>\n",
       "    </tr>\n",
       "    <tr>\n",
       "      <th>179</th>\n",
       "      <td>2023-10-04</td>\n",
       "      <td>Wednesday</td>\n",
       "      <td>150/97 - 78</td>\n",
       "      <td>146/103 - 80</td>\n",
       "      <td>132/97 - 79</td>\n",
       "    </tr>\n",
       "    <tr>\n",
       "      <th>180</th>\n",
       "      <td>2023-10-05</td>\n",
       "      <td>Thursday</td>\n",
       "      <td>140/102 - 79</td>\n",
       "      <td>142/97 - 79</td>\n",
       "      <td>141/99 - 77</td>\n",
       "    </tr>\n",
       "    <tr>\n",
       "      <th>181</th>\n",
       "      <td>2023-10-06</td>\n",
       "      <td>Friday</td>\n",
       "      <td>135/92 - 70</td>\n",
       "      <td>136/91 - 74</td>\n",
       "      <td>130/92 - 73</td>\n",
       "    </tr>\n",
       "    <tr>\n",
       "      <th>182</th>\n",
       "      <td>2023-10-07</td>\n",
       "      <td>Saturday</td>\n",
       "      <td>141/87 - 83</td>\n",
       "      <td>136/82 - 80</td>\n",
       "      <td>131/85 - 75</td>\n",
       "    </tr>\n",
       "  </tbody>\n",
       "</table>\n",
       "<p>183 rows × 5 columns</p>\n",
       "</div>"
      ],
      "text/plain": [
       "           Date        DoW           BP1           BP2           BP3\n",
       "0    2023-04-08   Saturday   121/84 - 66   124/86 - 62   127/84 - 63\n",
       "1    2023-04-09     Sunday   123/80 - 58   131/86 - 58   126/85 - 56\n",
       "2    2023-04-10     Monday   133/85 - 59   127/85 - 59  130/88  - 59\n",
       "3    2023-04-11    Tuesday   130/88 - 67   127/85 - 64  132/86  - 65\n",
       "4    2023-04-12  Wednesday   122/81 - 69   122/82 - 68   127/86 - 64\n",
       "..          ...        ...           ...           ...           ...\n",
       "178  2023-10-03    Tuesday   133/92 - 69   134/95 - 77   142/96 - 75\n",
       "179  2023-10-04  Wednesday   150/97 - 78  146/103 - 80   132/97 - 79\n",
       "180  2023-10-05   Thursday  140/102 - 79   142/97 - 79   141/99 - 77\n",
       "181  2023-10-06     Friday   135/92 - 70   136/91 - 74   130/92 - 73\n",
       "182  2023-10-07   Saturday   141/87 - 83   136/82 - 80   131/85 - 75\n",
       "\n",
       "[183 rows x 5 columns]"
      ]
     },
     "execution_count": 3,
     "metadata": {},
     "output_type": "execute_result"
    }
   ],
   "source": [
    "df = pd.read_csv(p_data)\n",
    "df = df[~df['BP1'].isna()]\n",
    "df"
   ]
  },
  {
   "cell_type": "code",
   "execution_count": 5,
   "id": "03103386-2fba-45e5-9910-d4dc8c4fb90b",
   "metadata": {},
   "outputs": [],
   "source": [
    "df['sys1'] = pd.DataFrame(df['BP1'].str.split(\n",
    "    '/').to_list(), columns=['sys', 'delme'])['sys'].astype('float64')\n",
    "df['sys2'] = pd.DataFrame(df['BP2'].str.split(\n",
    "    '/').to_list(), columns=['sys', 'delme'])['sys'].astype('float64')\n",
    "df['sys3'] = pd.DataFrame(df['BP3'].str.split(\n",
    "    '/').to_list(), columns=['sys', 'delme'])['sys'].astype('float64')\n",
    "df['mn_sys'] = (df['sys1'] + df['sys2'] + df['sys3']) / 3\n",
    "\n",
    "dia1tmp = pd.DataFrame(df['BP1'].str.split(\n",
    "    '/').to_list(), columns=['sys', 'delme'])['delme'].str.split('-').to_list()\n",
    "df['di1'] = pd.DataFrame(dia1tmp)[0].astype('float64')\n",
    "dia2tmp = pd.DataFrame(df['BP2'].str.split(\n",
    "    '/').to_list(), columns=['sys', 'delme'])['delme'].str.split('-').to_list()\n",
    "df['di2'] = pd.DataFrame(dia2tmp)[0].astype('float64')\n",
    "dia3tmp = pd.DataFrame(df['BP3'].str.split(\n",
    "    '/').to_list(), columns=['sys', 'delme'])['delme'].str.split('-').to_list()\n",
    "df['di3'] = pd.DataFrame(dia3tmp)[0].astype('float64')\n",
    "\n",
    "df['mn_di'] = (df['di1'] + df['di2'] + df['di3']) / 3\n",
    "\n",
    "\n",
    "df['mn_cat'] = np.where((df['mn_sys'] > 180) | (df['mn_di'] > 120), 'Crisis',\n",
    "                        np.where((df['mn_sys'] >= 140) | (df['mn_di'] >= 90), 'Stage 2',\n",
    "                        np.where((df['mn_sys'] >= 130) | (df['mn_di'] >= 80), 'Stage 1',\n",
    "                                 np.where((df['mn_sys'] >= 120) & (df['mn_di'] < 80), 'Elevated',\n",
    "                                 np.where((df['mn_sys'] < 120) & (df['mn_di'] < 80), 'Normal', 'ERROR')))))\n",
    "\n",
    "df['BP1_cat'] = np.where((df['sys1'] > 180) | (df['di1'] > 120), 'Crisis',\n",
    "                         np.where((df['sys1'] >= 140) | (df['di1'] >= 90), 'Stage 2',\n",
    "                                  np.where((df['sys1'] >= 130) | (df['di1'] >= 80), 'Stage 1',\n",
    "                                           np.where((df['sys1'] >= 120) & (df['di1'] < 80), 'Elevated',\n",
    "                                                    np.where((df['sys1'] < 120) & (df['di1'] < 80), 'Normal', 'ERROR')))))\n",
    "\n",
    "df['BP2_cat'] = np.where((df['sys2'] > 180) | (df['di2'] > 120), 'Crisis',\n",
    "                         np.where((df['sys2'] >= 140) | (df['di2'] >= 90), 'Stage 2',\n",
    "                                  np.where((df['sys2'] >= 130) | (df['di2'] >= 80), 'Stage 1',\n",
    "                                           np.where((df['sys2'] >= 120) & (df['di2'] < 80), 'Elevated',\n",
    "                                                    np.where((df['sys2'] < 120) & (df['di2'] < 80), 'Normal', 'ERROR')))))\n",
    "\n",
    "df['BP3_cat'] = np.where((df['sys3'] > 180) | (df['di3'] > 120), 'Crisis',\n",
    "                         np.where((df['sys3'] >= 140) | (df['di3'] >= 90), 'Stage 2',\n",
    "                                  np.where((df['sys3'] >= 130) | (df['di3'] >= 80), 'Stage 1',\n",
    "                                           np.where((df['sys3'] >= 120) & (df['di3'] < 80), 'Elevated',\n",
    "                                                    np.where((df['sys3'] < 120) & (df['di3'] < 80), 'Normal', 'ERROR')))))\n",
    "\n",
    "\n",
    "df['mn_cdn'] = np.where((df['mn_sys'] >= 135) | (df['mn_di'] >= 85), 'High Risk',\n",
    "                        np.where((df['mn_sys'] >= 121) | (df['mn_di'] > 80), 'Medium Risk', 'Normal'))\n",
    "\n",
    "df['BP1_cdn'] = np.where((df['sys1'] >= 135) | (df['di1'] >= 85), 'High Risk',\n",
    "                         np.where((df['sys1'] >= 121) | (df['di1'] > 80), 'Medium Risk', 'Normal'))\n",
    "\n",
    "df['BP2_cdn'] = np.where((df['sys2'] >= 135) | (df['di2'] >= 85), 'High Risk',\n",
    "                         np.where((df['sys2'] >= 121) | (df['di2'] > 80), 'Medium Risk', 'Normal'))\n",
    "\n",
    "df['BP3_cdn'] = np.where((df['sys3'] >= 135) | (df['di3'] >= 85), 'High Risk',\n",
    "                         np.where((df['sys3'] >= 121) | (df['di3'] > 80), 'Medium Risk', 'Normal'))\n",
    "\n",
    "\n",
    "# df = df[['Date', 'DoW', 'sys1', 'di1', 'sys2', 'di2', 'sys3', 'di3', 'mn_sys', 'mn_di', 'mn_cat', 'BP1_cat', 'BP2_cat', 'BP3_cat','mn_cdn', 'BP1_cdn', 'BP2_cdn', 'BP3_cdn']]\n",
    "\n",
    "\n",
    "s1 = df[['Date', 'sys1', 'di1', 'BP1_cat']]\n",
    "s2 = df[['Date', 'sys2', 'di2', 'BP2_cat']]\n",
    "s3 = df[['Date', 'sys3', 'di3', 'BP3_cat']]\n",
    "\n",
    "s1.columns = ['Date', 'Systolic', 'Diastolic', 'Category']\n",
    "s2.columns = ['Date', 'Systolic', 'Diastolic', 'Category']\n",
    "s3.columns = ['Date', 'Systolic', 'Diastolic', 'Category']\n",
    "\n",
    "bp_series = pd.concat([s1, s2, s3], axis=0)\n",
    "# bp_series.columns = ['Date', 'Systolic', 'Diastolic', 'Category']\n",
    "\n",
    "\n",
    "lst_date = pd.to_datetime(bp_series['Date'].max())\n",
    "thirty_days_ago = lst_date - pd.to_timedelta(30, unit='d')\n",
    "\n",
    "thirty_day = bp_series[pd.to_datetime(\n",
    "    bp_series['Date']) > (pd.to_datetime(thirty_days_ago))]\n",
    "thirty_med_sys = thirty_day['Systolic'].median()\n",
    "thirty_med_di = thirty_day['Diastolic'].median()\n",
    "thirty_avg_sys = thirty_day['Systolic'].mean()\n",
    "thirty_avg_di = thirty_day['Diastolic'].mean()\n",
    "\n",
    "\n",
    "prior_thirty = lst_date - pd.to_timedelta(30, unit='d')\n",
    "prior_sixty = lst_date - pd.to_timedelta(60, unit='d')\n",
    "prior = bp_series[(pd.to_datetime(bp_series['Date']) > prior_sixty) & (\n",
    "    pd.to_datetime(bp_series['Date']) <= prior_thirty)]\n",
    "\n",
    "prior_med_sys = prior['Systolic'].median()\n",
    "prior_med_di = prior['Diastolic'].median()\n",
    "prior_avg_sys = prior['Systolic'].mean()\n",
    "prior_avg_di = prior['Diastolic'].mean()"
   ]
  },
  {
   "cell_type": "code",
   "execution_count": 24,
   "id": "3522f99f-931f-412b-bb7e-ef1ad1607706",
   "metadata": {},
   "outputs": [
    {
     "name": "stdout",
     "output_type": "stream",
     "text": [
      "30 Day Median\n",
      "Systoloc: 139.0 \n",
      "Diastolic: 95.0\n"
     ]
    }
   ],
   "source": [
    "print('Last 30 Day Median\\nSystolic:', round(thirty_med_sys, 1),'\\nDiastolic:', round(thirty_med_di, 1))"
   ]
  },
  {
   "cell_type": "code",
   "execution_count": 25,
   "id": "109766b6",
   "metadata": {},
   "outputs": [
    {
     "name": "stdout",
     "output_type": "stream",
     "text": [
      "30 Day Mean\n",
      "Systoloc: 139.1 \n",
      "Diastolic: 93.4\n"
     ]
    }
   ],
   "source": [
    "print('Last 30 Day Mean\\nSystolic:', round(thirty_avg_sys,1),'\\nDiastolic:', round(thirty_avg_di,1))"
   ]
  },
  {
   "cell_type": "code",
   "execution_count": 26,
   "id": "88d2f3a6",
   "metadata": {},
   "outputs": [
    {
     "name": "stdout",
     "output_type": "stream",
     "text": [
      "Prior 30 Day Median\n",
      "Systoloc: 139.0 \n",
      "Diastolic: 93.0\n"
     ]
    }
   ],
   "source": [
    "print('Prior 30 Day Median\\nSystolic:', round(prior_med_sys, 1),'\\nDiastolic:', round(prior_med_di, 1))"
   ]
  },
  {
   "cell_type": "code",
   "execution_count": 27,
   "id": "ff6d81e8",
   "metadata": {},
   "outputs": [
    {
     "name": "stdout",
     "output_type": "stream",
     "text": [
      "Prior 30 Day Mean\n",
      "Diastolic: 139.6 \n",
      "Diastolic: 93.0\n"
     ]
    }
   ],
   "source": [
    "print('Prior 30 Day Mean\\nDiastolic:', round(prior_avg_sys, 1),'\\nDiastolic:', round(prior_avg_di, 1))"
   ]
  },
  {
   "cell_type": "code",
   "execution_count": null,
   "id": "5f52dea6",
   "metadata": {},
   "outputs": [],
   "source": []
  }
 ],
 "metadata": {
  "kernelspec": {
   "display_name": "Python 3 (ipykernel)",
   "language": "python",
   "name": "python3"
  },
  "language_info": {
   "codemirror_mode": {
    "name": "ipython",
    "version": 3
   },
   "file_extension": ".py",
   "mimetype": "text/x-python",
   "name": "python",
   "nbconvert_exporter": "python",
   "pygments_lexer": "ipython3",
   "version": "3.10.12"
  }
 },
 "nbformat": 4,
 "nbformat_minor": 5
}
