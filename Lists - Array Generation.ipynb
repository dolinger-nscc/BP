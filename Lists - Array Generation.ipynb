{
 "cells": [
  {
   "cell_type": "code",
   "execution_count": null,
   "id": "7836f3f9",
   "metadata": {},
   "outputs": [],
   "source": [
    "import numpy as np\n",
    "import seaborn as sns"
   ]
  },
  {
   "cell_type": "markdown",
   "id": "4f066b97",
   "metadata": {},
   "source": [
    "## Recreation of Adam's Series Section"
   ]
  },
  {
   "cell_type": "code",
   "execution_count": null,
   "id": "cf870334",
   "metadata": {},
   "outputs": [],
   "source": [
    "# simple list / array generation\n",
    "np.arange(10)"
   ]
  },
  {
   "cell_type": "code",
   "execution_count": null,
   "id": "e133b329",
   "metadata": {},
   "outputs": [],
   "source": [
    "# series (actually array) of integers\n",
    "np.arange(1, 11, 1)"
   ]
  },
  {
   "cell_type": "code",
   "execution_count": null,
   "id": "f7fe897e",
   "metadata": {},
   "outputs": [],
   "source": [
    "# stepping with integers\n",
    "np.arange(1, 11, 2)"
   ]
  },
  {
   "cell_type": "code",
   "execution_count": null,
   "id": "9601b0f3",
   "metadata": {},
   "outputs": [],
   "source": [
    "# stepping with floats\n",
    "np.arange(0,2.25,.25)"
   ]
  },
  {
   "cell_type": "code",
   "execution_count": null,
   "id": "92caa7fe",
   "metadata": {},
   "outputs": [],
   "source": [
    "np.random.randint(0,50, 10)"
   ]
  },
  {
   "cell_type": "markdown",
   "id": "7395d6c7",
   "metadata": {},
   "source": [
    "## Capturing a Random Sample"
   ]
  },
  {
   "cell_type": "code",
   "execution_count": null,
   "id": "9619af29",
   "metadata": {},
   "outputs": [],
   "source": [
    "names = ['Pat', 'Scott', 'Jennifer', 'Joanne', 'James', 'Jaxson', 'Finn', 'Mary', 'Aloysius', 'Harold', 'Monte', 'Nigel']\n",
    "np.random.choice(names, 4, replace=False)"
   ]
  },
  {
   "cell_type": "markdown",
   "id": "754e849c",
   "metadata": {},
   "source": [
    "## Generating Synthetic Data"
   ]
  },
  {
   "cell_type": "code",
   "execution_count": null,
   "id": "46bfd611",
   "metadata": {},
   "outputs": [],
   "source": [
    "# any guesses as to what this is?\n",
    "np.random.normal(loc=100, scale=15, size=10)"
   ]
  },
  {
   "cell_type": "code",
   "execution_count": null,
   "id": "8723ceca",
   "metadata": {},
   "outputs": [],
   "source": [
    "# now with a visual, any guesses?\n",
    "x = np.random.normal(loc=100, scale=15, size=25000)\n",
    "sns.histplot(data=x);"
   ]
  },
  {
   "cell_type": "markdown",
   "id": "002b5ea6",
   "metadata": {},
   "source": [
    "## Real Life Scenario  - *Creating Synthetic Data*\n",
    "[Blood Pressure Monitoring](https://dolinger-nscc-bp-bp-4rsjhm.streamlit.app/)  \n",
    "\n",
    "**Last 30 Day *Median***  \n",
    "Systolic: 140.0   \n",
    "Diastolic: 95.0      \n",
    "Std: 10.5  \n",
    "  \n",
    "**Last 30 Day *Mean***  \n",
    "Systolic: 140.2   \n",
    "Diastolic: 94.2    \n",
    "Std: 6.0  \n",
    "\n"
   ]
  },
  {
   "cell_type": "code",
   "execution_count": null,
   "id": "73e02cb6",
   "metadata": {},
   "outputs": [],
   "source": [
    "bpS = np.random.normal(loc=140.1, scale=10.5, size=25000)\n",
    "sns.histplot(data=bpS);"
   ]
  },
  {
   "cell_type": "code",
   "execution_count": null,
   "id": "d533fec3",
   "metadata": {},
   "outputs": [],
   "source": [
    "sns.boxplot(bpS, orient='h');"
   ]
  },
  {
   "cell_type": "code",
   "execution_count": null,
   "id": "400d3858",
   "metadata": {},
   "outputs": [],
   "source": [
    "bpD = np.random.normal(loc=94.6, scale=6, size=25000)\n",
    "sns.histplot(data=bpD);"
   ]
  },
  {
   "cell_type": "code",
   "execution_count": null,
   "id": "c84f5c09",
   "metadata": {},
   "outputs": [],
   "source": [
    "sns.boxplot(bpD, orient='h');"
   ]
  },
  {
   "cell_type": "code",
   "execution_count": null,
   "id": "5e6e20aa",
   "metadata": {},
   "outputs": [],
   "source": []
  }
 ],
 "metadata": {
  "kernelspec": {
   "display_name": "Python 3 (ipykernel)",
   "language": "python",
   "name": "python3"
  },
  "language_info": {
   "codemirror_mode": {
    "name": "ipython",
    "version": 3
   },
   "file_extension": ".py",
   "mimetype": "text/x-python",
   "name": "python",
   "nbconvert_exporter": "python",
   "pygments_lexer": "ipython3",
   "version": "3.10.6"
  }
 },
 "nbformat": 4,
 "nbformat_minor": 5
}
